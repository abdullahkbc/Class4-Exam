{
 "cells": [
  {
   "cell_type": "code",
   "execution_count": 25,
   "metadata": {},
   "outputs": [
    {
     "name": "stdout",
     "output_type": "stream",
     "text": [
      "2002,2009,2016,2023,2037,2044,2051,2058,2072,2079,2086,2093,2107,2114,2121,2128,2142,2149,2156,2163,2177,2184,2191,2198,2212,2219,2226,2233,2247,2254,2261,2268,2282,2289,2296,2303,2317,2324,2331,2338,2352,2359,2366,2373,2387,2394,2401,2408,2422,2429,2436,2443,2457,2464,2471,2478,2492,2499,2506,2513,2527,2534,2541,2548,2562,2569,2576,2583,2597,2604,2611,2618,2632,2639,2646,2653,2667,2674,2681,2688,2702,2709,2716,2723,2737,2744,2751,2758,2772,2779,2786,2793,2807,2814,2821,2828,2842,2849,2856,2863,2877,2884,2891,2898,2912,2919,2926,2933,2947,2954,2961,2968,2982,2989,2996,3003,3017,3024,3031,3038,3052,3059,3066,3073,3087,3094,3101,3108,3122,3129,3136,3143,3157,3164,3171,3178,3192,3199,"
     ]
    }
   ],
   "source": [
    "# @@ -0,0 +1,2 @@\n",
    "# 2000 ve 3200 sayilari arasinda (2000 ve 3200 dahil) 7'ye tam bolunebilen fakat 5'in kati olmayan tum sayilari \n",
    "# aralarinda virgul olacak sekilde tek satirda terminale bastirin.\n",
    "\n",
    "for i in range(2000,3201):\n",
    "    if i%7==0 and i%5!=0:\n",
    "        print(i, sep=\"\", end=\",\")\n"
   ]
  },
  {
   "cell_type": "code",
   "execution_count": 26,
   "metadata": {},
   "outputs": [
    {
     "name": "stdout",
     "output_type": "stream",
     "text": [
      "Enter a number5\n",
      "{1: 1, 2: 4, 3: 9, 4: 16, 5: 25}\n"
     ]
    }
   ],
   "source": [
    "# @@ -0,0 +1,4 @@\n",
    "# Kullanici tarafindan girilen n sayisi kadar elemani olan ve elemanlari arasinda (i:i*i) iliskisi bulunan bir sozluk olusturunuz.\n",
    "# Ornek input: 8\n",
    "# Output: {1: 1, 2: 4, 3: 9, 4: 16, 5: 25, 6: 36, 7: 49, 8: 64}\n",
    "\n",
    "n=int(input(\"Enter a number\"))\n",
    "sozluk={}\n",
    "for i in range(1,n+1):\n",
    "    sozluk[i]=i**2\n",
    "print(sozluk)\n",
    "\n"
   ]
  },
  {
   "cell_type": "code",
   "execution_count": 27,
   "metadata": {},
   "outputs": [
    {
     "name": "stdout",
     "output_type": "stream",
     "text": [
      "Type a string: fgd fh\n",
      "FGD FH\n"
     ]
    }
   ],
   "source": [
    "# En az iki metodu olan bir Class olusturunuz.\n",
    "# 1.metot =>  inputAl: Kullanicidan input alma.\n",
    "# 2.metot =>  yazdir: Alinan inputu terminale buyuk harflerle yazdirma metodu.\n",
    "\n",
    "class Odev():\n",
    "    def __init__(self): pass\n",
    "        \n",
    "    def inputAl(self):\n",
    "        self.a=input(\"Type a string: \")\n",
    "        \n",
    "    def yazdir(self):\n",
    "        self.a=self.a.upper()\n",
    "        print(self.a)\n",
    "        \n",
    "ornek=Odev()\n",
    "ornek.inputAl()\n",
    "ornek.yazdir()"
   ]
  },
  {
   "cell_type": "code",
   "execution_count": 28,
   "metadata": {},
   "outputs": [
    {
     "name": "stdout",
     "output_type": "stream",
     "text": [
      "Type something: gcfhdf ght rtr p\n",
      "joint, unique string is ==>   cdfghprt\n",
      "invert of strings ==>         ['p', 'rtr', 'ght', 'gcfhdf']\n"
     ]
    }
   ],
   "source": [
    "# Input ile alinan bir stringi, harfleri tekrar etmeyecek sekilde ve alfabetik olarak siralayan bir \n",
    "# fonksiyon olusturun. Boslugu da dikkate alin.\n",
    "# Ornek input: 'monty pythons flying circus'\n",
    "# Ornek output: ' cfghilmnoprstuy'\n",
    "\n",
    "# Ayni inputu tersten siralayip bir liste haline ceviren bir fonksiyon olusturun.\n",
    "# Ornek input: 'monty pythons flying circus'\n",
    "# Ornek output: ['circus', 'flying', 'pythons', 'monty'] \n",
    "\n",
    "def alphabetic():\n",
    "    a=input(\"Type something: \")\n",
    "    b=set(a)\n",
    "    v=list(b)\n",
    "    v.sort()\n",
    "    print(\"joint, unique string is ==> \",\"\".join(v))\n",
    "    invert (a)\n",
    "\n",
    "def invert (a):\n",
    "    k=[]\n",
    "    for i in a.split():\n",
    "        k.append(i)\n",
    "    print(\"invert of strings ==>        \", k[::-1])\n",
    "    \n",
    "alphabetic()"
   ]
  },
  {
   "cell_type": "code",
   "execution_count": 29,
   "metadata": {},
   "outputs": [
    {
     "name": "stdout",
     "output_type": "stream",
     "text": [
      "Type something : fgh 54 4 gg 3\n",
      "HARFLER:  5 --- SAYILAR: 4\n"
     ]
    }
   ],
   "source": [
    "# Input ile girilen bir cumledeki sayilarin ve harflerin miktarini hesaplayan bir fonksiyon yaziniz.\n",
    "# Ornek input: hello world! 123\n",
    "# Output:\n",
    "# HARFLER: 10\n",
    "# SAYILAR: 3 \n",
    "\n",
    "def count():\n",
    "    a=input(\"Type something : \")\n",
    "    letter=0\n",
    "    number=0\n",
    "    for i in a:\n",
    "        if 58>ord(i)>47:\n",
    "            number+=1\n",
    "        elif 91>ord(i)>64 or 123>ord(i)>96:\n",
    "            letter+=1\n",
    "    print(\"HARFLER: \", letter, \"---\", \"SAYILAR:\", number )\n",
    "count()"
   ]
  },
  {
   "cell_type": "code",
   "execution_count": null,
   "metadata": {},
   "outputs": [],
   "source": [
    "# hesap.py dosyasindaki islemler ve bakiye degerlerini import edin\n",
    "# islemler listesini okuyup sirasiyla islem tipi ve miktarina gore hesaptaki tutari guncelleyen bir kod yazin.\n",
    "# her bir adimi, olusturdugunuz 'islemler.txt' dosyasina yeni birer satir olarak ekleyin. orn. islem tipi para cekme, \n",
    "# tutar=100 => txt dosyasinda\n",
    "# gorunmesi gereken satir + 100\n",
    "# eger islem tipi para cekme ise ve cekilmek istenen miktar halihazirda hesapta olan bakiyeden fazla ise,\n",
    "# raise kullanarak exception olusturun ve \"hesapta yeterli miktar yoktur\"\n",
    "# benzeri bir hata mesaji printleyin.\n",
    "# en son adimda hesaptaki guncel tutari txt dosyasina yazin (bakiye: miktar) seklinde.\n",
    "# tum bu akisi dosya acma/kapama islemleri ve try-except yontemi ile yapin.\n",
    "\n",
    "# tum kod neticesinde olusturmaniz gereken islemler.txt dosyasinin icerigi asagidaki gibi olmalidir:\n",
    "# + 100\n",
    "# + 200\n",
    "# - 50\n",
    "# + 100\n",
    "# - 250\n",
    "# + 30\n",
    "# bakiye: 130\n",
    "\n",
    "# tum kod neticesinde terminalde gorunmesi gereken degerler:\n",
    "# hesapta yeterli bakiye yoktur\n",
    "# bakiye: 130\n",
    "# hesap.py\n",
    "# islemler = [\n",
    "#     {\"islem_tipi\": \"para_yatirma\", \"miktar\": 100},\n",
    "#     {\"islem_tipi\": \"para_yatirma\", \"miktar\": 200},\n",
    "#     {\"islem_tipi\": \"para_cekme\", \"miktar\": 50},\n",
    "#     {\"islem_tipi\": \"para_yatirma\", \"miktar\": 100},\n",
    "#     {\"islem_tipi\": \"para_cekme\", \"miktar\": 250},\n",
    "#     {\"islem_tipi\": \"para_cekme\", \"miktar\": 400},\n",
    "#     {\"islem_tipi\": \"para_yatirma\", \"miktar\": 30}\n",
    "# ]\n",
    "\n",
    "# bakiye = 0\n",
    "\n"
   ]
  },
  {
   "cell_type": "code",
   "execution_count": null,
   "metadata": {},
   "outputs": [],
   "source": [
    "# \"Yazici Ciftligi\" adını verdiğiniz milyon dolarlık bir is fikrine sahipsiniz.\n",
    "# Pek çok insanın ofislerinde ve evlerinde yazıcı kullandığını biliyorsunuz ve bunun hiç mantıklı olmadigini dusunuyorsunuz.\n",
    "# Neden tüm yazıcıları yazıcı çiftliğinizde birleştirip, kullanıcıların yazicilarinizi kullanarak dosyalar yazdirmasini saglayip,\n",
    "# bu dosyaları postayla onlara göndermeyesiniz ki?\n",
    "# Elbette bu harika bir fikir, bu yüzden hemen başlamaya karar veriyorsunuz.\n",
    "# Ana sorun, sunucuza gelen binlerce yazdırma komutunu işlemek ve bunları sahip olduğunuz 64 yazıcıya tek tek göndermek.\n",
    "# Amaç, herhangi bir baskı talebini aldıktan sonra 1 saat içinde baskiyi tamamlamak ve göndermek.\n",
    "# Hizmetinizin kullanıcı sayısının hızla artacağını tahmin ediyorsunuz, bu nedenle işiniz büyüdükçe taleple başa çıkmak için\n",
    "# yeni sunucular ve yazıcılar ekleyebilmeniz gerek.\n",
    "# Kullanmanız gereken veri yapıları, bu veri yapilarinin nasil uygulamaya dokulecegi ve baskı hizmetini\n",
    "# etkin bir şekilde çalıştırmak için gerekli olacak algoritmalar hakkında yaklasik 10 cümle ile kısa bir paragraf yazın.\n",
    "# Seçimlerinizi çalışma süresi ve depolama boyutu açısından açıklayın. (Time & Space Complexity)\n",
    "\n",
    "#    ---CEVAP---\n",
    "# Burada oncelikli olarak ilk gelen islemin ilk sonlanmasi yani first in first out (FIFO) mantiginda islemesi gerektigi \n",
    "# bir veri yapisina ihtiyac duyariz, bu yuzden Queue veri yapisini tercih etmemiz gerekir. Ancak bazi taleplerin cok ivedi\n",
    "# ya da kayitli musteri olmasi ihtimaline karsin Priority Queue secmemiz gerekir. Daha onceligi olan musteriye oncelik vermek\n",
    "# icin bu algoritma kullanilmasi gerekir. Bunun disinda ikinci onemli sorun ise eldeki 64 yazicinin yetmemesi durumunda\n",
    "# yazicilarin artirilmasi. Eger static bir array seklinde tutarsak bu yazicilari, kapasite artirimi gerektiginde ayni miktarda\n",
    "# daha yazici eklememiz gerekecek (ram), bu sebeple Dynamic Array seklinde kullandigimiz kadar yazicinin aktif oldugu \n",
    "# (ram uzerinde tutuldugu) bir veri yapiya ihtiyac duyariz. \n",
    "# Space complexity: eldeki yazici sayisina p dersek, ve elimizde 0 ve N arasinda is bulundugunu dusunursek, yazicilar\n",
    "# max O(p) min O(0) kadar kullanilir. o ve p`nin sabit sayilar oldugu (yani bekleyen islerden bagimsiz) gozonune alinirsa \n",
    "# O(p) yani linear bir space complexity vardir denilebilir.\n",
    "# Time complexity: eldeki is sayisina N, yazici sayisina da p dersek, elimizdeki islemler O(N/p) icerisinde sonuclanir. p`nin \n",
    "# sabit oldugu dusunulurse O(N) seklinde linear bir sonuc alinir.\n",
    "\n",
    "import hesap\n",
    "print(hesap.islemler)\n",
    "with open(\"kayit.txt\",\"w+\") as a:\n",
    "    bakiye=0\n",
    "    for i in hesap.islemler:\n",
    "        if i[\"islem_tipi\"]==\"para_yatirma\":\n",
    "            a.write(\"+\")\n",
    "            a.write(str(i[\"miktar\"]))\n",
    "            a.write(\"\\n\")\n",
    "            bakiye+=i[\"miktar\"]\n",
    "        elif i[\"islem_tipi\"] == \"para_cekme\" and bakiye>i[\"miktar\"]:\n",
    "            a.write(\"-\")\n",
    "            a.write(str(i[\"miktar\"]))\n",
    "            a.write(\"\\n\")\n",
    "            bakiye-=i[\"miktar\"]\n",
    "        elif bakiye < i[\"miktar\"]:\n",
    "            # raise Exception(\"hesapta yeterli miktar yoktur\")\n",
    "            print(\"hesapta yeterli miktar yoktur\") #raise ile deneyince loopa devam etmedi. ama bu sekilde calisiyor\n",
    "\n",
    "    a.write(\"bakiye\")\n",
    "    a.write(str(bakiye))"
   ]
  },
  {
   "cell_type": "code",
   "execution_count": null,
   "metadata": {},
   "outputs": [],
   "source": [
    "# Binary tree yüksekliğini hesaplayan bir algoritma yazınız. Yükseklik veya derinlik,\n",
    "# kök düğümden (root node) yaprak düğüme (leaf node) giden en uzun yoldaki toplam düğüm(node) sayısıdır.\n",
    "# (Program, en uzun yoldaki toplam düğüm sayısını dikkate almalıdır. Örneğin, boş bir ağacın\n",
    "# yüksekliği 0'dır ve yalnızca bir düğümü olan ağacın yüksekliği 1'dir.)\n",
    "# Oluşturduğunuz programda aşağıdaki ağacı oluşturup yazdığınız algoritmayı test edin.\n",
    "# Programınız sonuç olarak bu ağacın maximum yüksekliğini 3 olarak vermelidir.\n",
    "# (İpucu: Recursive çözüm kullanabilirsiniz.)\n",
    "\n",
    "#              15\n",
    "#           /      \\\n",
    "#          /        \\\n",
    "#         10        20\n",
    "#        /  \\       / \\\n",
    "#       /    \\     /   \\\n",
    "#      8     12   16   25\n",
    "\n",
    "\n",
    "class Node():\n",
    "    def __init__(self, data, left = None, right = None):\n",
    "        self.data = data\n",
    "        self.left = left\n",
    "        self.right = right\n",
    "        \n",
    "def level(data):\n",
    "    b = 0\n",
    "    if data.left == None and data.right == None:\n",
    "        return b\n",
    "    elif data.right != None :\n",
    "        right = level(data.right)\n",
    "    elif data.left != None :\n",
    "        left = level(data.left)\n",
    "    return max(right,left) + 1\n"
   ]
  }
 ],
 "metadata": {
  "kernelspec": {
   "display_name": "Python 3",
   "language": "python",
   "name": "python3"
  },
  "language_info": {
   "codemirror_mode": {
    "name": "ipython",
    "version": 3
   },
   "file_extension": ".py",
   "mimetype": "text/x-python",
   "name": "python",
   "nbconvert_exporter": "python",
   "pygments_lexer": "ipython3",
   "version": "3.8.5"
  }
 },
 "nbformat": 4,
 "nbformat_minor": 4
}
